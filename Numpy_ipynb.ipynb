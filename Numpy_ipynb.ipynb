{
  "nbformat": 4,
  "nbformat_minor": 0,
  "metadata": {
    "colab": {
      "provenance": [],
      "authorship_tag": "ABX9TyOq1qxnBHX5Ca3Ip9YTyWY0",
      "include_colab_link": true
    },
    "kernelspec": {
      "name": "python3",
      "display_name": "Python 3"
    },
    "language_info": {
      "name": "python"
    }
  },
  "cells": [
    {
      "cell_type": "markdown",
      "metadata": {
        "id": "view-in-github",
        "colab_type": "text"
      },
      "source": [
        "<a href=\"https://colab.research.google.com/github/Anmolkr1909/Numpy/blob/main/Numpy_ipynb.ipynb\" target=\"_parent\"><img src=\"https://colab.research.google.com/assets/colab-badge.svg\" alt=\"Open In Colab\"/></a>"
      ]
    },
    {
      "cell_type": "markdown",
      "source": [
        "# **Numpy ( Mini project )**\n",
        "\n",
        "---\n",
        "\n",
        "\n",
        "\n",
        "---\n",
        "\n"
      ],
      "metadata": {
        "id": "8qWUvd1D_EOv"
      }
    },
    {
      "cell_type": "markdown",
      "source": [
        " # 94) Student Marks Analyzer\n",
        "*   Analyze marks of students in 5 subjects\n",
        "*   Used in schools, college results, dashboards\n",
        "#  Topic used :\n",
        "\n",
        "*  ndarray creation\n",
        "\n",
        "* Indexing & slicing\n",
        "\n",
        "*  Axis-based operations (mean, max, std)\n",
        "\n",
        "*  Comparison\n",
        "\n",
        "*  Boolean filtering"
      ],
      "metadata": {
        "id": "UQFDWUUOATOK"
      }
    },
    {
      "cell_type": "markdown",
      "source": [
        "#  Problem Statement:\n",
        "*  You have marks of 4 students in 5 subjects.\n",
        "# Analyze:\n",
        "\n",
        "* Each student's average\n",
        "\n",
        "* Each subject's highest scorer\n",
        "\n",
        "*  Students who scored more than 50 in all subjects\n",
        "\n"
      ],
      "metadata": {
        "id": "TicYnQRyCnuD"
      }
    },
    {
      "cell_type": "code",
      "source": [
        "import numpy as np\n",
        "\n",
        "#Create 2D array: rows = students, cols = subjects\n",
        "marks = np.array([\n",
        "    [78, 55, 62, 85, 90],   # Student 1\n",
        "    [92, 88, 95, 91, 87],   # Student 2\n",
        "    [45, 60, 52, 22, 65],   # Student 3\n",
        "    [80, 70, 60, 55, 75]    # Student 4])\n",
        "]) # Added closing parenthesis and adjusted indentation\n",
        "\n",
        "# Student-wise average marks (axis=1)\n",
        "student_avg = np.mean(marks, axis=1)\n",
        "print(\"Average marks per student:\", student_avg)\n",
        "\n",
        "# Subject-wise topper (axis=0)\n",
        "subject_topper = np.argmax(marks, axis=0)\n",
        "print(\"Index of toppers per subject:\", subject_topper)\n",
        "\n",
        "# Find students who scored >50 in ALL subjects\n",
        "passed_all = np.all(marks > 50, axis=1)\n",
        "print(\"Students who passed all subjects:\", passed_all)\n",
        "\n",
        "# Print marks of students who passed all subjects\n",
        "passed_students = marks[passed_all]\n",
        "print(\"Marks of students who passed all:\", passed_students)"
      ],
      "metadata": {
        "colab": {
          "base_uri": "https://localhost:8080/"
        },
        "id": "LUxwi6wtEby2",
        "outputId": "67276e58-f140-459a-80dd-bd5aa87f90b6"
      },
      "execution_count": 4,
      "outputs": [
        {
          "output_type": "stream",
          "name": "stdout",
          "text": [
            "Average marks per student: [74.  90.6 48.8 68. ]\n",
            "Index of toppers per subject: [1 1 1 1 0]\n",
            "Students who passed all subjects: [ True  True False  True]\n",
            "Marks of students who passed all: [[78 55 62 85 90]\n",
            " [92 88 95 91 87]\n",
            " [80 70 60 55 75]]\n"
          ]
        }
      ]
    },
    {
      "cell_type": "markdown",
      "source": [
        "\n",
        "\n",
        "---\n",
        "\n"
      ],
      "metadata": {
        "id": "WKtDvffpJ76L"
      }
    },
    {
      "cell_type": "markdown",
      "source": [
        " #  95) Weather Data Processor\n",
        "*  Analyze daily temperatures of a city for a week using NumPy\n",
        "* Weather apps, climate dashboards, agriculture tool\n",
        "# Topics:\n",
        "\n",
        "*   Min, Max, Mean, Std\n",
        "\n",
        "*  Axis-based stats\n",
        "\n",
        "*  Conditional selection\n",
        "\n",
        "*  np.where(), np.any(), np.all()\n",
        "\n",
        "# Problem Statement:\n",
        "*  You have temperature readings (°C) of a city over 7 days, taken at 3 times per day: Morning, Afternoon, and Evening.\n",
        "\n",
        "# Need to:\n",
        "\n",
        "* Find the hottest and coldest day\n",
        "\n",
        "* Get average temperature of each day\n",
        "\n",
        "* Detect heatwave days (any reading > 40°C)\n",
        "\n",
        "*  Detect fully pleasant days (all readings < 30°C)\n",
        "\n"
      ],
      "metadata": {
        "id": "ffOKv2_LGLLA"
      }
    },
    {
      "cell_type": "code",
      "source": [
        "import numpy as np\n",
        "\n",
        "# Create 2D array: rows = days, columns = [Morning, Afternoon, Evening]\n",
        "temps = np.array([\n",
        "    [25, 32, 28],  # Day 1\n",
        "    [30, 35, 33],  # Day 2\n",
        "    [22, 27, 25],  # Day 3\n",
        "    [40, 42, 39],  # Day 4\n",
        "    [29, 31, 30],  # Day 5\n",
        "    [26, 28, 27],  # Day 6\n",
        "    [21, 24, 23]   # Day 7\n",
        "])\n",
        "\n",
        "# Find min & max temperature of the entire week\n",
        "min_temp = np.min(temps)\n",
        "max_temp = np.max(temps)\n",
        "print(\"Minimum temperature:\", min_temp)\n",
        "print(\"Maximum temperature:\", max_temp)\n",
        "\n",
        "# Average temperature of each day (axis=1 means row-wise)\n",
        "daily_avg = np.mean(temps, axis=1)\n",
        "print(\"Average temperature per day:\", daily_avg)\n",
        "\n",
        "# Heatwave Days: Any reading > 40°C\n",
        "heatwave = np.any(temps > 40, axis=1)\n",
        "print(\"Heatwave Days (True means yes):\", heatwave)\n",
        "\n",
        "# Fully Pleasant Days: All readings < 30°C\n",
        "pleasant = np.all(temps < 30, axis=1)\n",
        "print(\"Fully pleasant days (True means yes):\", pleasant)\n",
        "\n",
        "# Which days were heatwave days\n",
        "heatwave_days = np.where(heatwave)[0] + 1  # +1 for human day numbering\n",
        "print(\"Heatwave Days:\", heatwave_days)\n"
      ],
      "metadata": {
        "colab": {
          "base_uri": "https://localhost:8080/"
        },
        "id": "-PF43IJsHsP2",
        "outputId": "00ee6361-5c89-4831-bc20-e0008b44467c"
      },
      "execution_count": 6,
      "outputs": [
        {
          "output_type": "stream",
          "name": "stdout",
          "text": [
            "Minimum temperature: 21\n",
            "Maximum temperature: 42\n",
            "Average temperature per day: [28.33333333 32.66666667 24.66666667 40.33333333 30.         27.\n",
            " 22.66666667]\n",
            "Heatwave Days (True means yes): [False False False  True False False False]\n",
            "Fully pleasant days (True means yes): [False False  True False False  True  True]\n",
            "Heatwave Days: [4]\n"
          ]
        }
      ]
    },
    {
      "cell_type": "markdown",
      "source": [
        "\n",
        "\n",
        "\n",
        "\n",
        "---\n",
        "\n"
      ],
      "metadata": {
        "id": "8-NLm534J-Gd"
      }
    },
    {
      "cell_type": "markdown",
      "source": [
        "#  96) Hospital Health Filter\n",
        "* Filter and analyze patient health records\n",
        "*  Used in hospitals, diagnostic labs, or insurance to identify health risks\n",
        "# Topics :\n",
        "\n",
        "* Boolean indexing\n",
        "\n",
        "* Conditional filtering\n",
        "\n",
        "* np.mean, np.std, np.where()\n",
        "\n",
        "* slicing and comparisons\n",
        "# Statement:\n",
        "*  You’re given data of 8 patients, and each row contains:\n",
        "\n",
        "*  [Blood Pressure, Sugar Level, Heart Rate]\n",
        "\n",
        " # My tasks:\n",
        "\n",
        "*  Find patients with high blood pressure (> 140)\n",
        "\n",
        "*  Find patients with any abnormal value\n",
        "\n",
        "* Find patients who are fully healthy\n",
        "\n",
        "* Calculate average vitals\n",
        "\n",
        "* Print report: Patient No + Result"
      ],
      "metadata": {
        "id": "6dE0vrsWKCm1"
      }
    },
    {
      "cell_type": "code",
      "source": [
        "import numpy as np\n",
        "\n",
        "# Step 1: Create patient data (BP, Sugar, Heart Rate)\n",
        "data = np.array([\n",
        "    [120, 85, 72],\n",
        "    [145, 95, 88],\n",
        "    [130, 100, 70],\n",
        "    [110, 90, 60],\n",
        "    [160, 120, 90],\n",
        "    [125, 82, 75],\n",
        "    [118, 88, 77],\n",
        "    [150, 140, 95]\n",
        "])\n",
        "\n",
        "# patients with high BP\n",
        "high_bp = data[:, 0] > 140\n",
        "print(\"Patients with High BP:\", np.where(high_bp)[0] + 1)\n",
        "\n",
        "#  there any abnormal value in the entire dataset\n",
        "abnormal = np.any(data > [140, 110, 90])\n",
        "print(\"Is there any abnormal value in dataset?\", abnormal)\n",
        "\n",
        "# abnormal patients (any abnormal vital in a row)\n",
        "abnormal_patients = np.any(data > [140, 110, 90], axis=1)\n",
        "print(\"Patients with any abnormal value:\", np.where(abnormal_patients)[0] + 1)\n",
        "\n",
        "# fully healthy patients (all vitals in normal range)\n",
        "healthy_patients = np.all(data < [130, 100, 85], axis=1)\n",
        "print(\"Healthy Patient Numbers:\", np.where(healthy_patients)[0] + 1)\n",
        "\n",
        "# average vitals\n",
        "avg_vitals = np.mean(data, axis=0)\n",
        "print(\"Average BP, Sugar, HR:\", avg_vitals)\n",
        "\n",
        "# Final health report\n",
        "for i in range(data.shape[0]):\n",
        "    status = \"Healthy\" if healthy_patients[i] else \"Needs Attention\"\n",
        "    print(f\"Patient {i+1}: {status}\")\n"
      ],
      "metadata": {
        "colab": {
          "base_uri": "https://localhost:8080/"
        },
        "id": "ezwFNWARSbez",
        "outputId": "f7161171-fb78-47e8-9260-c0c8baacacab"
      },
      "execution_count": 15,
      "outputs": [
        {
          "output_type": "stream",
          "name": "stdout",
          "text": [
            "Patients with High BP: [2 5 8]\n",
            "Is there any abnormal value in dataset? True\n",
            "Patients with any abnormal value: [2 5 8]\n",
            "Healthy Patient Numbers: [1 4 6 7]\n",
            "Average BP, Sugar, HR: [132.25  100.     78.375]\n",
            "Patient 1: Healthy\n",
            "Patient 2: Needs Attention\n",
            "Patient 3: Needs Attention\n",
            "Patient 4: Healthy\n",
            "Patient 5: Needs Attention\n",
            "Patient 6: Healthy\n",
            "Patient 7: Healthy\n",
            "Patient 8: Needs Attention\n"
          ]
        }
      ]
    },
    {
      "cell_type": "markdown",
      "source": [
        "\n",
        "\n",
        "---\n",
        "\n",
        "\n",
        "\n",
        "\n"
      ],
      "metadata": {
        "id": "i9eDb-v5TGci"
      }
    },
    {
      "cell_type": "markdown",
      "source": [
        "# 97)Earthquake Sensor Data Analyzer\n",
        "*  Used by environmental monitoring systems to detect significant earthquakes from continuous sensor readings\n",
        "\n",
        "\n",
        "#Analyze\n",
        "* seismic sensor data to:\n",
        "\n",
        "* Detect dangerous spikes\n",
        "\n",
        "*   Identify average activity levels\n",
        "\n",
        "* Flag calm and dangerous regions\n",
        "\n",
        "* Dataset (Simulated):\n",
        "\n",
        "   Each row = sensor readings from a different station\n",
        "\n",
        "   Each column = hourly seismic vibration level (0–100)"
      ],
      "metadata": {
        "id": "VY2uubtDTIuT"
      }
    },
    {
      "cell_type": "code",
      "source": [
        "import numpy as np\n",
        "\n",
        "#simulated sensor readings (rows = 5 stations, cols = 10 hourly readings)\n",
        "data = np.array([\n",
        "    [10, 15, 18, 21, 19, 17, 20, 19, 22, 18],\n",
        "    [12, 18, 20, 45, 80, 85, 60, 50, 20, 15],\n",
        "    [8,  9, 10, 12, 11, 13, 9,  10, 11, 8],\n",
        "    [5,  6, 100, 110, 5, 7, 8, 6, 5, 4],\n",
        "    [25, 28, 30, 35, 40, 38, 36, 42, 45, 48]\n",
        "])\n",
        "# Detect spikes above danger level (80+)\n",
        "dangerous_spikes = data > 80\n",
        "print(\"Danger spikes (True means dangerous):\\n\", dangerous_spikes)\n",
        "\n",
        "# stations with at least 1 dangerous spike\n",
        "dangerous_stations = np.any(dangerous_spikes, axis=1)\n",
        "print(\"Stations with dangerous activity:\", np.where(dangerous_stations)[0] + 1)\n",
        "\n",
        "# average vibration per station\n",
        "avg_vibration = np.mean(data, axis=1)\n",
        "print(\"Average vibration per station:\", avg_vibration)\n",
        "\n",
        "# station with highest average\n",
        "most_active = np.argmax(avg_vibration)\n",
        "print(\"Most active station:\", most_active + 1)\n",
        "\n",
        "# 5. Calm stations (avg < 20)\n",
        "calm_stations = avg_vibration < 20\n",
        "print(\"Calm stations:\", np.where(calm_stations)[0] + 1)\n",
        "\n",
        "# 6. Final report\n",
        "for i in range(data.shape[0]):\n",
        "    if dangerous_stations[i]:\n",
        "        status = \"Dangerous\"\n",
        "    elif calm_stations[i]:\n",
        "        status = \"Calm\"\n",
        "    else:\n",
        "        status = \"Moderate\"\n",
        "    print(f\"Station {i+1}: {status}\")\n"
      ],
      "metadata": {
        "colab": {
          "base_uri": "https://localhost:8080/"
        },
        "id": "r8Zu_iyyWSRv",
        "outputId": "a731cf40-1640-4e9f-c0e7-2e7f3632bdff"
      },
      "execution_count": 16,
      "outputs": [
        {
          "output_type": "stream",
          "name": "stdout",
          "text": [
            "Danger spikes (True means dangerous):\n",
            " [[False False False False False False False False False False]\n",
            " [False False False False False  True False False False False]\n",
            " [False False False False False False False False False False]\n",
            " [False False  True  True False False False False False False]\n",
            " [False False False False False False False False False False]]\n",
            "Stations with dangerous activity: [2 4]\n",
            "Average vibration per station: [17.9 40.5 10.1 25.6 36.7]\n",
            "Most active station: 2\n",
            "Calm stations: [1 3]\n",
            "Station 1: Calm\n",
            "Station 2: Dangerous\n",
            "Station 3: Calm\n",
            "Station 4: Dangerous\n",
            "Station 5: Moderate\n"
          ]
        }
      ]
    },
    {
      "cell_type": "markdown",
      "source": [
        "\n",
        "\n",
        "---\n",
        "\n"
      ],
      "metadata": {
        "id": "15NSuPelZOHO"
      }
    },
    {
      "cell_type": "markdown",
      "source": [
        " # 98)  Sports Performance Tracker\n",
        "*  Analyzing player performance across multiple games using NumPy.\n",
        "\n",
        "*  Track and analyze scores of 4 cricket players over 5 matches using NumPy.\n",
        "*   Topics:-  \n",
        "reshape, transpose, stack, unique, mean, axis"
      ],
      "metadata": {
        "id": "pdov8BTZXs0_"
      }
    },
    {
      "cell_type": "code",
      "source": [
        "import numpy as np\n",
        "\n",
        "# flat list of runs (Player-wise, 4 players × 5 matches = 20 values)\n",
        "runs = [45, 50, 32, 70, 66,\n",
        "        80, 77, 60, 65, 75,\n",
        "        20, 25, 30, 28, 35,\n",
        "        55, 60, 50, 65, 70]\n",
        "\n",
        "# convert to 2D array (4 players, 5 matches)\n",
        "scores = np.array(runs).reshape(4, 5)\n",
        "print(\"Scores (rows=players, cols=matches):\\n\", scores)\n",
        "\n",
        "# transpose to get match-wise view\n",
        "match_view = scores.T\n",
        "print(\"\\nScores Transposed (rows=matches, cols=players):\\n\", match_view)\n",
        "\n",
        "# Step 3: Average score per player\n",
        "avg_player = np.mean(scores, axis=1)\n",
        "print(\"\\nAverage score per player:\", avg_player)\n",
        "\n",
        "# Step 4: Average score per match\n",
        "avg_match = np.mean(scores, axis=0)\n",
        "print(\"Average score per match:\", avg_match)\n",
        "\n",
        "# Step 5: Stack scores with average per player (horizontal stack)\n",
        "avg_player_column = avg_player.reshape(-1, 1)\n",
        "full_stats = np.hstack((scores, avg_player_column))\n",
        "print(\"\\nScores + Average per player:\\n\", full_stats)\n",
        "\n",
        "# Step 6: Unique scores played by all players\n",
        "all_scores_flat = scores.ravel()\n",
        "unique_scores = np.unique(all_scores_flat)\n",
        "print(\"\\nUnique scores in dataset:\", unique_scores)\n",
        "\n",
        "# Step 7: Final Report\n",
        "for i in range(scores.shape[0]):\n",
        "    print(f\"Player {i+1} - Scores: {scores[i]} | Average: {avg_player[i]:.2f}\")\n",
        "\n"
      ],
      "metadata": {
        "colab": {
          "base_uri": "https://localhost:8080/"
        },
        "id": "TUX1-EEQXsRn",
        "outputId": "3afeb896-18cd-4bfd-ca5f-0d9f29ee3646"
      },
      "execution_count": 17,
      "outputs": [
        {
          "output_type": "stream",
          "name": "stdout",
          "text": [
            "Scores (rows=players, cols=matches):\n",
            " [[45 50 32 70 66]\n",
            " [80 77 60 65 75]\n",
            " [20 25 30 28 35]\n",
            " [55 60 50 65 70]]\n",
            "\n",
            "Scores Transposed (rows=matches, cols=players):\n",
            " [[45 80 20 55]\n",
            " [50 77 25 60]\n",
            " [32 60 30 50]\n",
            " [70 65 28 65]\n",
            " [66 75 35 70]]\n",
            "\n",
            "Average score per player: [52.6 71.4 27.6 60. ]\n",
            "Average score per match: [50.  53.  43.  57.  61.5]\n",
            "\n",
            "Scores + Average per player:\n",
            " [[45.  50.  32.  70.  66.  52.6]\n",
            " [80.  77.  60.  65.  75.  71.4]\n",
            " [20.  25.  30.  28.  35.  27.6]\n",
            " [55.  60.  50.  65.  70.  60. ]]\n",
            "\n",
            "Unique scores in dataset: [20 25 28 30 32 35 45 50 55 60 65 66 70 75 77 80]\n",
            "Player 1 - Scores: [45 50 32 70 66] | Average: 52.60\n",
            "Player 2 - Scores: [80 77 60 65 75] | Average: 71.40\n",
            "Player 3 - Scores: [20 25 30 28 35] | Average: 27.60\n",
            "Player 4 - Scores: [55 60 50 65 70] | Average: 60.00\n"
          ]
        }
      ]
    },
    {
      "cell_type": "markdown",
      "source": [
        "\n",
        "\n",
        "---\n",
        "\n"
      ],
      "metadata": {
        "id": "h18cL27xY9LY"
      }
    },
    {
      "cell_type": "markdown",
      "source": [
        "# 99) Weather Simulation & Forecast System\n",
        "* Used by climate systems to simulate daily temperatures and analyze weather patterns\n",
        "\n",
        "\n",
        "    # Simulate 7 days of temperature data for 3 cities and:\n",
        "\n",
        "* Analyze trends\n",
        "\n",
        "* Apply broadcasting\n",
        "\n",
        "* Use random number generation\n",
        "* Sort data\n",
        "\n",
        "\n"
      ],
      "metadata": {
        "id": "dNShoFT7ZQUy"
      }
    },
    {
      "cell_type": "code",
      "source": [
        "import numpy as np\n",
        "\n",
        "#set seed for reproducibility\n",
        "np.random.seed(42)\n",
        "\n",
        "#simulate temperatures (3 cities × 7 days)\n",
        "temps = np.random.randint(25, 45, size=(3, 7))\n",
        "cities = ['Delhi', 'Mumbai', 'Chennai']\n",
        "days = ['Mon', 'Tue', 'Wed', 'Thu', 'Fri', 'Sat', 'Sun']\n",
        "\n",
        "print(\"Temperature Data (°C):\\n\", temps)\n",
        "\n",
        "# average temp per city\n",
        "avg_city = np.mean(temps, axis=1)\n",
        "print(\"\\nAverage Temperature per City:\", avg_city)\n",
        "\n",
        "# Average temp per day\n",
        "avg_day = np.mean(temps, axis=0)\n",
        "print(\"Average Temperature per Day:\", avg_day)\n",
        "\n",
        "# Broadcasting – Convert °C to °F: F = (C × 9/5) + 32\n",
        "temps_f = temps * 9/5 + 32\n",
        "print(\"\\nTemperature in Fahrenheit:\\n\", temps_f)\n",
        "\n",
        "# Sort temperatures for each city (row-wise sort)\n",
        "sorted_temps = np.sort(temps, axis=1)\n",
        "print(\"\\nSorted Temperatures (City-wise):\\n\", sorted_temps)\n",
        "\n",
        "# hottest day per city\n",
        "hottest_day_idx = np.argmax(temps, axis=1)\n",
        "for i, city in enumerate(cities):\n",
        "    print(f\"Hottest day in {city}: {days[hottest_day_idx[i]]} ({temps[i, hottest_day_idx[i]]}°C)\")\n",
        "\n",
        "# flatten all data and get overall top 5 hottest readings\n",
        "flat_all = temps.flatten()\n",
        "top5 = np.sort(flat_all)[-5:]\n",
        "print(\"\\nTop 5 Hottest Readings in the Week:\", top5)"
      ],
      "metadata": {
        "colab": {
          "base_uri": "https://localhost:8080/"
        },
        "id": "1l3oPUMLakk6",
        "outputId": "416c07a5-3a10-46f2-c1dd-5d88e802eeef"
      },
      "execution_count": 21,
      "outputs": [
        {
          "output_type": "stream",
          "name": "stdout",
          "text": [
            "Temperature Data (°C):\n",
            " [[31 44 39 35 32 31 43]\n",
            " [35 35 28 32 27 26 36]\n",
            " [30 26 25 36 36 41 34]]\n",
            "\n",
            "Average Temperature per City: [36.42857143 31.28571429 32.57142857]\n",
            "Average Temperature per Day: [32.         35.         30.66666667 34.33333333 31.66666667 32.66666667\n",
            " 37.66666667]\n",
            "\n",
            "Temperature in Fahrenheit:\n",
            " [[ 87.8 111.2 102.2  95.   89.6  87.8 109.4]\n",
            " [ 95.   95.   82.4  89.6  80.6  78.8  96.8]\n",
            " [ 86.   78.8  77.   96.8  96.8 105.8  93.2]]\n",
            "\n",
            "Sorted Temperatures (City-wise):\n",
            " [[31 31 32 35 39 43 44]\n",
            " [26 27 28 32 35 35 36]\n",
            " [25 26 30 34 36 36 41]]\n",
            "Hottest day in Delhi: Tue (44°C)\n",
            "Hottest day in Mumbai: Sun (36°C)\n",
            "Hottest day in Chennai: Sat (41°C)\n",
            "\n",
            "Top 5 Hottest Readings in the Week: [36 39 41 43 44]\n"
          ]
        }
      ]
    },
    {
      "cell_type": "markdown",
      "source": [
        " # 100)Image Pixel Processor\n",
        " *  Image editing software (like Photoshop) uses NumPy to process and transform pixel data in grayscale and color images.\n",
        "\n",
        "   #    Simulate a grayscale image and apply:\n",
        "\n",
        "*  Reshaping & flattening\n",
        "\n",
        "* Mathematical transformations\n",
        "\n",
        "* Clipping values\n",
        "\n",
        "* Transposing images\n",
        "\n",
        "* Simulated 5×5 pixel grayscale image (values 0–255)"
      ],
      "metadata": {
        "id": "wBa5f2qYcEiT"
      }
    },
    {
      "cell_type": "code",
      "source": [
        "import numpy as np\n",
        "\n",
        "# create 5×5 grayscale image with random pixel values (0-255)\n",
        "np.random.seed(7)\n",
        "image = np.random.randint(0, 256, size=(5, 5))\n",
        "print(\"Original Image (5x5 pixels):\\n\", image)\n",
        "\n",
        "\n",
        "# flatten image to 1D for storage or processing\n",
        "flat_image = image.flatten()\n",
        "print(\"\\nFlattened Image:\\n\", flat_image)\n",
        "\n",
        "# normalize the image (0 to 1 scale)\n",
        "normalized_image = image / 255.0\n",
        "print(\"\\nNormalized Image:\\n\", normalized_image)\n",
        "\n",
        "# Increase brightness by 20 units (clip values to stay within 0–255)\n",
        "bright_image = np.clip(image + 20, 0, 255)\n",
        "print(\"\\nBrightened Image (+20):\\n\", bright_image)\n",
        "\n",
        "# apply a mathematical function (invert image)\n",
        "inverted_image = 255 - image\n",
        "print(\"\\nInverted Image (Negative Effect):\\n\", inverted_image)\n",
        "\n",
        "# Transpose image (flip rows and columns)\n",
        "transposed_image = image.T\n",
        "print(\"\\nTransposed Image:\\n\", transposed_image)\n",
        "\n",
        "# Replace pixels < 100 with 0 (thresholding - black out dark areas)\n",
        "thresholded = np.where(image < 100, 0, image)\n",
        "print(\"\\nThresholded Image (pixels < 100 = 0):\\n\", thresholded)\n"
      ],
      "metadata": {
        "colab": {
          "base_uri": "https://localhost:8080/"
        },
        "id": "8G8cqXHDdNnx",
        "outputId": "168858b8-5a7f-4364-d001-9837c7ed1919"
      },
      "execution_count": 24,
      "outputs": [
        {
          "output_type": "stream",
          "name": "stdout",
          "text": [
            "Original Image (5x5 pixels):\n",
            " [[175 196  25 246  67]\n",
            " [211 151 103  92 185]\n",
            " [142  23  72  89 110]\n",
            " [ 42 218 136 167 230]\n",
            " [ 68 176 127 135 172]]\n",
            "\n",
            "Flattened Image:\n",
            " [175 196  25 246  67 211 151 103  92 185 142  23  72  89 110  42 218 136\n",
            " 167 230  68 176 127 135 172]\n",
            "\n",
            "Normalized Image:\n",
            " [[0.68627451 0.76862745 0.09803922 0.96470588 0.2627451 ]\n",
            " [0.82745098 0.59215686 0.40392157 0.36078431 0.7254902 ]\n",
            " [0.55686275 0.09019608 0.28235294 0.34901961 0.43137255]\n",
            " [0.16470588 0.85490196 0.53333333 0.65490196 0.90196078]\n",
            " [0.26666667 0.69019608 0.49803922 0.52941176 0.6745098 ]]\n",
            "\n",
            "Brightened Image (+20):\n",
            " [[195 216  45 255  87]\n",
            " [231 171 123 112 205]\n",
            " [162  43  92 109 130]\n",
            " [ 62 238 156 187 250]\n",
            " [ 88 196 147 155 192]]\n",
            "\n",
            "Inverted Image (Negative Effect):\n",
            " [[ 80  59 230   9 188]\n",
            " [ 44 104 152 163  70]\n",
            " [113 232 183 166 145]\n",
            " [213  37 119  88  25]\n",
            " [187  79 128 120  83]]\n",
            "\n",
            "Transposed Image:\n",
            " [[175 211 142  42  68]\n",
            " [196 151  23 218 176]\n",
            " [ 25 103  72 136 127]\n",
            " [246  92  89 167 135]\n",
            " [ 67 185 110 230 172]]\n",
            "\n",
            "Thresholded Image (pixels < 100 = 0):\n",
            " [[175 196   0 246   0]\n",
            " [211 151 103   0 185]\n",
            " [142   0   0   0 110]\n",
            " [  0 218 136 167 230]\n",
            " [  0 176 127 135 172]]\n"
          ]
        }
      ]
    }
  ]
}